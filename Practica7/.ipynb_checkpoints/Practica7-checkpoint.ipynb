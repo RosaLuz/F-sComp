{
 "metadata": {
  "name": "",
  "signature": "sha256:5079707d04771b73ed08b68dec13e773cfdac745330899181cf150366a574c77"
 },
 "nbformat": 3,
 "nbformat_minor": 0,
 "worksheets": []
}