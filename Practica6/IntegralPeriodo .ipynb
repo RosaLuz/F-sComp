{
 "metadata": {
  "name": "",
  "signature": "sha256:315e4d07341ec95c85e0435a1037fc374d38bccf8c663baed7822f661e0184a4"
 },
 "nbformat": 3,
 "nbformat_minor": 0,
 "worksheets": [
  {
   "cells": [
    {
     "cell_type": "code",
     "collapsed": false,
     "input": [],
     "language": "python",
     "metadata": {},
     "outputs": []
    },
    {
     "cell_type": "code",
     "collapsed": false,
     "input": [
      "#BIBLIOTECAS UTILIZADAS\n",
      "import numpy as np\n",
      "from numpy import sqrt, sin, cos, pi\n",
      "from scipy.integrate import quad\n",
      "import matplotlib.pyplot as plt\n",
      "\n",
      "###############################################\n",
      "\n",
      "#CONSTANTES\n",
      "g=9.8               #acelaraci\u00f3n de la gravedad\n",
      "l=1.0               #longitud de la cuerda\n",
      "c=4*sqrt(l/(2*g))   #Constante de integral \n",
      "\n",
      "#APROXIMACI\u00d3N PARA \u00c1NGULOS PEQUE\u00d1OS (theta<30)\n",
      "T0=(2.0*np.pi)*(sqrt(l/g))\n",
      "\n",
      "##############################################\n",
      "\n",
      "#PARA LOS \u00c1NGULOS\n",
      "n=6000                              #n\u00famero de valores que tomar\u00e1 el \u00e1ngulo\n",
      "e=0.00001                           #error peque\u00f1o para que el denominador de laintegral no se haga cero\n",
      "theta_0=np.linspace(e,(np.pi)+e,n)  #rango de theta_0\n",
      "\n",
      "##############################################\n",
      "\n",
      "#RANGOS QUE PUEDEN TOMAR LOS RESULTADOS\n",
      "Int=[0 for i in range(n)]\n",
      "err=[0 for i in range(n)]\n",
      "T=[0 for i in range(n)]\n",
      "\n",
      "##############################################\n",
      "\n",
      "\n",
      "#INTEGRAL PARA CALCULAR EL PERIODO EXACTO T\n",
      "def I(x,theta_0):\n",
      "    return(1.0/(np.sqrt(np.cos(x)-np.cos(theta0))))\n",
      "\n",
      "#LOOP QUE CALCULE TODOS LOS RESULTADOS POSIBLES\n",
      "for i in range(n):\n",
      "    theta0=theta_0[i]\n",
      "    Int[i] , err[i]=quad(I, 0, theta0, args=(theta0))\n",
      "    T[i]=c*Int[i]\n",
      "    \n",
      "##############################################\n",
      "    \n",
      "#RELACI\u00d3N DE PERIODO EXACTO/PERIDO APROXIMADO\n",
      "G=T/T0\n",
      "\n",
      "#GRAFIQUITAS c:\n",
      "colors = np.random.rand(N()\n",
      "plt.scatter(theta_0, G, , theta_0, G, c=colors)\n",
      "plt.title(\"Relacion entre periodos vs angulo\")\n",
      "plt.xlabel(\"angulo (radianes)\")\n",
      "plt.ylabel(\"T/T0\")\n",
      "\n",
      "\n"
     ],
     "language": "python",
     "metadata": {},
     "outputs": [
      {
       "ename": "SyntaxError",
       "evalue": "invalid syntax (<ipython-input-1-b46f2aedc62c>, line 51)",
       "output_type": "pyerr",
       "traceback": [
        "\u001b[0;36m  File \u001b[0;32m\"<ipython-input-1-b46f2aedc62c>\"\u001b[0;36m, line \u001b[0;32m51\u001b[0m\n\u001b[0;31m    plt.scatter(theta_0, G, , theta_0, G, c=colors)\u001b[0m\n\u001b[0m      ^\u001b[0m\n\u001b[0;31mSyntaxError\u001b[0m\u001b[0;31m:\u001b[0m invalid syntax\n"
       ]
      }
     ],
     "prompt_number": 1
    },
    {
     "cell_type": "code",
     "collapsed": false,
     "input": [],
     "language": "python",
     "metadata": {},
     "outputs": []
    }
   ],
   "metadata": {}
  }
 ]
}